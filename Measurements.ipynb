{
 "cells": [
  {
   "cell_type": "code",
   "execution_count": 44,
   "metadata": {},
   "outputs": [],
   "source": [
    "import matplotlib.pyplot as plot\n",
    "import seaborn as sb\n",
    "import pandas as pd\n",
    "import numpy as np"
   ]
  },
  {
   "cell_type": "markdown",
   "metadata": {},
   "source": [
    "For our robo car simulation code we did some experimental measurements of the real car:\n",
    "\n",
    "We measured the following values when invoking the \n",
    "RoboCar API function\n",
    "```\n",
    "turnLeft(100, timems)\n",
    "```\n",
    "angle in degree:"
   ]
  },
  {
   "cell_type": "code",
   "execution_count": 45,
   "metadata": {},
   "outputs": [
    {
     "data": {
      "text/html": [
       "<div>\n",
       "<style scoped>\n",
       "    .dataframe tbody tr th:only-of-type {\n",
       "        vertical-align: middle;\n",
       "    }\n",
       "\n",
       "    .dataframe tbody tr th {\n",
       "        vertical-align: top;\n",
       "    }\n",
       "\n",
       "    .dataframe thead th {\n",
       "        text-align: right;\n",
       "    }\n",
       "</style>\n",
       "<table border=\"1\" class=\"dataframe\">\n",
       "  <thead>\n",
       "    <tr style=\"text-align: right;\">\n",
       "      <th></th>\n",
       "      <th>timems</th>\n",
       "      <th>angle</th>\n",
       "    </tr>\n",
       "  </thead>\n",
       "  <tbody>\n",
       "    <tr>\n",
       "      <th>0</th>\n",
       "      <td>50</td>\n",
       "      <td>5</td>\n",
       "    </tr>\n",
       "    <tr>\n",
       "      <th>1</th>\n",
       "      <td>100</td>\n",
       "      <td>10</td>\n",
       "    </tr>\n",
       "    <tr>\n",
       "      <th>2</th>\n",
       "      <td>150</td>\n",
       "      <td>16</td>\n",
       "    </tr>\n",
       "    <tr>\n",
       "      <th>3</th>\n",
       "      <td>200</td>\n",
       "      <td>26</td>\n",
       "    </tr>\n",
       "    <tr>\n",
       "      <th>4</th>\n",
       "      <td>250</td>\n",
       "      <td>34</td>\n",
       "    </tr>\n",
       "  </tbody>\n",
       "</table>\n",
       "</div>"
      ],
      "text/plain": [
       "   timems  angle\n",
       "0      50      5\n",
       "1     100     10\n",
       "2     150     16\n",
       "3     200     26\n",
       "4     250     34"
      ]
     },
     "execution_count": 45,
     "metadata": {},
     "output_type": "execute_result"
    }
   ],
   "source": [
    "data = {'timems':  [50,100,150,200,250,300,350,400,500],\n",
    "        'angle': [5,10,16,26,34,38,44,48,68]\n",
    "        }\n",
    "turnLeftData =  pd.DataFrame(data)\n",
    "\n",
    "turnLeftData.head()"
   ]
  },
  {
   "cell_type": "code",
   "execution_count": 46,
   "metadata": {},
   "outputs": [
    {
     "name": "stderr",
     "output_type": "stream",
     "text": [
      "/Users/peterbendel/opt/anaconda3/envs/new_ml/lib/python3.7/site-packages/seaborn/_decorators.py:43: FutureWarning: Pass the following variables as keyword args: x, y. From version 0.12, the only valid positional argument will be `data`, and passing other arguments without an explicit keyword will result in an error or misinterpretation.\n",
      "  FutureWarning\n"
     ]
    },
    {
     "data": {
      "image/png": "[encoded data removed]",
      "text/plain": [
       "<Figure size 640x480 with 1 Axes>"
      ]
     },
     "metadata": {},
     "output_type": "display_data"
    },
    {
     "name": "stdout",
     "output_type": "stream",
     "text": [
      "z = 0.13641935483870965 * x + -2.7516129032257965\n"
     ]
    }
   ],
   "source": [
    "p=sb.regplot(turnLeftData.timems,turnLeftData.angle)\n",
    "plot.show()\n",
    "x = p.get_lines()[0].get_xdata()\n",
    "y = p.get_lines()[0].get_ydata()\n",
    "a, b = np.polyfit(x, y, 1)\n",
    "print (\"z = {} * x + {}\".format(a, b))"
   ]
  },
  {
   "cell_type": "markdown",
   "metadata": {},
   "source": [
    "and for \n",
    "```\n",
    "driveForward(100, timems)\n",
    "```\n",
    "we measured the following distances in mm"
   ]
  },
  {
   "cell_type": "code",
   "execution_count": 47,
   "metadata": {},
   "outputs": [
    {
     "data": {
      "text/html": [
       "<div>\n",
       "<style scoped>\n",
       "    .dataframe tbody tr th:only-of-type {\n",
       "        vertical-align: middle;\n",
       "    }\n",
       "\n",
       "    .dataframe tbody tr th {\n",
       "        vertical-align: top;\n",
       "    }\n",
       "\n",
       "    .dataframe thead th {\n",
       "        text-align: right;\n",
       "    }\n",
       "</style>\n",
       "<table border=\"1\" class=\"dataframe\">\n",
       "  <thead>\n",
       "    <tr style=\"text-align: right;\">\n",
       "      <th></th>\n",
       "      <th>timems</th>\n",
       "      <th>distmm</th>\n",
       "    </tr>\n",
       "  </thead>\n",
       "  <tbody>\n",
       "    <tr>\n",
       "      <th>0</th>\n",
       "      <td>50</td>\n",
       "      <td>8</td>\n",
       "    </tr>\n",
       "    <tr>\n",
       "      <th>1</th>\n",
       "      <td>100</td>\n",
       "      <td>13</td>\n",
       "    </tr>\n",
       "    <tr>\n",
       "      <th>2</th>\n",
       "      <td>150</td>\n",
       "      <td>37</td>\n",
       "    </tr>\n",
       "    <tr>\n",
       "      <th>3</th>\n",
       "      <td>200</td>\n",
       "      <td>42</td>\n",
       "    </tr>\n",
       "    <tr>\n",
       "      <th>4</th>\n",
       "      <td>250</td>\n",
       "      <td>65</td>\n",
       "    </tr>\n",
       "  </tbody>\n",
       "</table>\n",
       "</div>"
      ],
      "text/plain": [
       "   timems  distmm\n",
       "0      50       8\n",
       "1     100      13\n",
       "2     150      37\n",
       "3     200      42\n",
       "4     250      65"
      ]
     },
     "execution_count": 47,
     "metadata": {},
     "output_type": "execute_result"
    }
   ],
   "source": [
    "data = {'timems':  [50,100,150,200,250,300,350,400,500],\n",
    "        'distmm': [8,13,37,42,65,80,95,107,135]\n",
    "        }\n",
    "driveForwardData =  pd.DataFrame(data)\n",
    "\n",
    "driveForwardData.head()"
   ]
  },
  {
   "cell_type": "code",
   "execution_count": 48,
   "metadata": {},
   "outputs": [
    {
     "name": "stderr",
     "output_type": "stream",
     "text": [
      "/Users/peterbendel/opt/anaconda3/envs/new_ml/lib/python3.7/site-packages/seaborn/_decorators.py:43: FutureWarning: Pass the following variables as keyword args: x, y. From version 0.12, the only valid positional argument will be `data`, and passing other arguments without an explicit keyword will result in an error or misinterpretation.\n",
      "  FutureWarning\n"
     ]
    },
    {
     "data": {
      "image/png": "[encoded data removed]",
      "text/plain": [
       "<Figure size 640x480 with 1 Axes>"
      ]
     },
     "metadata": {},
     "output_type": "display_data"
    },
    {
     "name": "stdout",
     "output_type": "stream",
     "text": [
      "z = 0.2944838709677419 * x + -10.590322580645141\n"
     ]
    }
   ],
   "source": [
    "p=sb.regplot(driveForwardData.timems,driveForwardData.distmm)\n",
    "plot.show()\n",
    "x = p.get_lines()[0].get_xdata()\n",
    "y = p.get_lines()[0].get_ydata()\n",
    "a, b = np.polyfit(x, y, 1)\n",
    "print (\"z = {} * x + {}\".format(a, b))"
   ]
  },
  {
   "cell_type": "markdown",
   "metadata": {},
   "source": [
    "Now we can conclude that we have the following approximate formulas for a speed of 100 for the robo car\n",
    "```\n",
    "rotation_angle = 0.14 * timems - 2.75\n",
    "\n",
    "distance_in_mm = 0.29 * timems - 10.59\n",
    "````\n",
    "\n"
   ]
  },
  {
   "cell_type": "markdown",
   "metadata": {},
   "source": [
    "Some sources used to create the code below\n",
    "\n",
    "\n",
    "Rotation matrix:\n",
    "https://www.101computing.net/2d-rotation-matrix/\n",
    "\n",
    "Scaling, moving and rotating\n",
    "\n",
    "https://stackoverflow.com/questions/23530449/rotate-scale-and-translate-2d-coordinates\n",
    "\n",
    "Python libraries\n",
    "\n",
    "- shapely https://shapely.readthedocs.io/en/maint-1.8/manual.html\n",
    "- https://pythontic.com/image-processing/pillow/rotate\n",
    "\n",
    "Drawing shapes and manipulate them\n",
    "- https://note.nkmk.me/en/python-pillow-imagedraw/\n",
    "using a coordinate system with 0,0 in upper left corner\n",
    "- https://pillow.readthedocs.io/en/stable/reference/ImagePath.html\n",
    "- https://pillow.readthedocs.io/en/stable/handbook/tutorial.html\n",
    "- https://stackoverflow.com/questions/17056209/python-pil-affine-transformation\n",
    "- Gifs:\n",
    "- https://blog.zhaytam.com/2018/08/21/creating-gifs-using-python-pillow/\n",
    "- https://stackoverflow.com/questions/2275446/python-animation-with-pil\n",
    "\n",
    "\n"
   ]
  },
  {
   "cell_type": "code",
   "execution_count": null,
   "metadata": {},
   "outputs": [],
   "source": [
    "from Car import CarModel\n",
    "\n",
    "car = CarModel()\n",
    "car.setScale(1.0)\n",
    "car.rotate(-45)\n",
    "\n",
    "car.moveForward(200)\n"
   ]
  },
  {
   "cell_type": "markdown",
   "metadata": {},
   "source": [
    "Draw a single frame with different positions of the car"
   ]
  },
  {
   "cell_type": "code",
   "execution_count": 49,
   "metadata": {
    "scrolled": true
   },
   "outputs": [
    {
     "data": {
      "image/png": "[encoded data removed]",
      "text/plain": [
       "<PIL.Image.Image image mode=RGBA size=1500x1200>"
      ]
     },
     "metadata": {},
     "output_type": "display_data"
    }
   ],
   "source": [
    "from PIL import Image, ImageDraw\n",
    "import Car, time\n",
    "car = Car.CarModel()\n",
    "#car.setScale(0.5)\n",
    "\n",
    "im = Image.new('RGBA', (1500, 1200), (128, 128, 128))\n",
    "draw = ImageDraw.Draw(im)\n",
    "draw.line((0,0,1500,1200),fill=(0,0,0), width=15 )\n",
    "\n",
    "# move to start position\n",
    "car.rotate(90.0)\n",
    "car.moveForward(120.0)\n",
    "car.rotate(-90.0)\n",
    "car.moveForward(150.0)\n",
    "car.rotate(38.0)\n",
    "# draw start position\n",
    "car.draw(draw)\n",
    "\n",
    "# move and draw car\n",
    "\n",
    "for i in range(0,10): \n",
    "    car.moveForward(200)\n",
    "    car.rotate(-10)\n",
    "    car.draw(draw)\n",
    "   \n",
    "   \n",
    "display(im)\n",
    "\n",
    "\n",
    "    "
   ]
  },
  {
   "cell_type": "markdown",
   "metadata": {},
   "source": [
    "Generate a GIF \"video\" from the frames of the simulation, timed with the individual duration of each driving step"
   ]
  },
  {
   "cell_type": "code",
   "execution_count": null,
   "metadata": {},
   "outputs": [],
   "source": [
    "from PIL import Image, ImageDraw, ImageFont\n",
    "import Car\n",
    "car = Car.CarModel()\n",
    "# move to start position\n",
    "car.rotate(90.0)\n",
    "car.moveForward(120.0)\n",
    "car.rotate(-90.0)\n",
    "car.moveForward(150.0)\n",
    "car.rotate(38.0)\n",
    "\n",
    "# draw frames\n",
    "frames = []\n",
    "durations = []\n",
    "time = 0.0\n",
    "\n",
    "genevafont = ImageFont.truetype(\"Geneva.ttf\", 30)\n",
    "\n",
    "\n",
    "for i in range (0,17):\n",
    "    im = Image.new('RGB', (1700, 1400), (128, 128, 128))\n",
    "    draw = ImageDraw.Draw(im)\n",
    "    draw.rectangle((100,100,1600,1300),fill=(255,255,255),width=1, outline=(255,255,255) )\n",
    "    draw.line((100,100,1600,1300),fill=(0,0,0), width=15 )\n",
    "    text = 'Step: {:3d} Time: {:.2f} s - Sensors: L {:3d} M {:3d} R {:3d}'.format(i*2,time,455,828,444)\n",
    "    draw.text((400,50), text, font=genevafont)\n",
    "\n",
    "    # draw after moving forward and save image\n",
    "    car.moveForward(100)\n",
    "    time+= 0.2\n",
    "    car.draw(draw)\n",
    "    frames.append(im)\n",
    "    durations.append(200)\n",
    "    car.rotate(-5)\n",
    "    time+=0.05\n",
    "    durations.append(50)\n",
    "    # draw after rotating\n",
    "    im = Image.new('RGB', (1700, 1400), (128, 128, 128))\n",
    "    draw = ImageDraw.Draw(im)\n",
    "    draw.rectangle((100,100,1600,1300),fill=(255,255,255),width=1, outline=(255,255,255)) \n",
    "    draw.line((100,100,1600,1300),fill=(0,0,0), width=15 )\n",
    "    text = 'Step: {:3d} Time: {:.2f} s - Sensors: L {:3d} M {:3d} R {:3d}'.format(i*2+1,time,455,828,444)\n",
    "    draw.text((400,50), text, font=genevafont)\n",
    "    car.draw(draw)\n",
    "    frames.append(im)\n",
    "    \n",
    "    \n",
    "\n",
    "frames[0].save('images/carsimulation.gif', format='GIF', append_images=frames[1:], save_all=True, duration=durations, loop=0, optimize=True)\n"
   ]
  },
  {
   "cell_type": "markdown",
   "metadata": {},
   "source": [
    "![SegmentLocal](carsimulation.gif \"segment\")"
   ]
  },
  {
   "cell_type": "markdown",
   "metadata": {},
   "source": [
    "We can use shapely to intersect two polygons and compute the area of the intersection:\n",
    "\n",
    "https://shapely.readthedocs.io/en/maint-1.8/manual.html#polygons\n",
    "\n",
    "```\n",
    "conda install shapely\n",
    "```\n",
    "\n",
    "```\n",
    "from shapely.geometry import Polygon\n",
    "p1 = Polygon([[0, 0], [1, 0], [1, 1], [0, 1], [0, 0]],...)\n",
    "p2 = Polygon([[0, 0], [1, 0], [1, 1], [0, 1], [0, 0]],...)\n",
    "\n",
    "# Polygon p1 (the line we track) and p2 (the sensor)\n",
    "x = p1.intersection(p2)\n",
    "areasize = x.area\n",
    "```\n",
    "then we can compute the sensor value in relation to the area size\n",
    "\n",
    "Since shapely works with lists in polygon ctors we may need to convert our polygon tuples to lists as follows\n",
    "\n",
    "```\n",
    "spam = [('id','1'),('name','Mike'),('Adrs','Tor')]\n",
    "eggs = [list(item) for item in spam]\n",
    "```\n"
   ]
  },
  {
   "cell_type": "code",
   "execution_count": 2,
   "metadata": {},
   "outputs": [
    {
     "data": {
      "text/plain": [
       "81.25"
      ]
     },
     "execution_count": 2,
     "metadata": {},
     "output_type": "execute_result"
    }
   ],
   "source": [
    "from shapely.geometry import Polygon\n",
    "p1tuple = ((0,0), (10,0), (10,20), (0,20), (0,0))\n",
    "p2tuple = ((5,5), (15,0), (15,25), (5,25), (5,5))\n",
    "p1 = Polygon([list(point) for point in p1tuple])\n",
    "p2 = Polygon([list(point) for point in p2tuple])\n",
    "x = p1.intersection(p2)\n",
    "areasize = x.area\n",
    "areasize"
   ]
  },
  {
   "cell_type": "markdown",
   "metadata": {},
   "source": [
    "To draw our line we could use bezier curves for interpolation and follow the code here\n",
    "\n",
    "https://stackoverflow.com/questions/246525/how-can-i-draw-a-bezier-curve-using-pythons-pil\n",
    "\n"
   ]
  },
  {
   "cell_type": "code",
   "execution_count": 2,
   "metadata": {},
   "outputs": [],
   "source": [
    "def make_bezier(xys):\n",
    "    # xys should be a sequence of 2-tuples (Bezier control points)\n",
    "    n = len(xys)\n",
    "    combinations = pascal_row(n-1)\n",
    "    def bezier(ts):\n",
    "        # This uses the generalized formula for bezier curves\n",
    "        # http://en.wikipedia.org/wiki/B%C3%A9zier_curve#Generalization\n",
    "        result = []\n",
    "        for t in ts:\n",
    "            tpowers = (t**i for i in range(n))\n",
    "            upowers = reversed([(1-t)**i for i in range(n)])\n",
    "            coefs = [c*a*b for c, a, b in zip(combinations, tpowers, upowers)]\n",
    "            result.append(\n",
    "                tuple(sum([coef*p for coef, p in zip(coefs, ps)]) for ps in zip(*xys)))\n",
    "        return result\n",
    "    return bezier\n",
    "\n",
    "def pascal_row(n, memo={}):\n",
    "    # This returns the nth row of Pascal's Triangle\n",
    "    if n in memo:\n",
    "        return memo[n]\n",
    "    result = [1]\n",
    "    x, numerator = 1, n\n",
    "    for denominator in range(1, n//2+1):\n",
    "        # print(numerator,denominator,x)\n",
    "        x *= numerator\n",
    "        x /= denominator\n",
    "        result.append(x)\n",
    "        numerator -= 1\n",
    "    if n&1 == 0:\n",
    "        # n is even\n",
    "        result.extend(reversed(result[:-1]))\n",
    "    else:\n",
    "        result.extend(reversed(result))\n",
    "    memo[n] = result\n",
    "    return result\n"
   ]
  },
  {
   "cell_type": "code",
   "execution_count": 18,
   "metadata": {},
   "outputs": [
    {
     "data": {
      "image/png": "[encoded data removed]",
      "text/plain": [
       "<PIL.Image.Image image mode=RGBA size=150x150>"
      ]
     },
     "metadata": {},
     "output_type": "display_data"
    }
   ],
   "source": [
    "from PIL import Image\n",
    "from PIL import ImageDraw\n",
    "\n",
    "\n",
    "im = Image.new('RGBA', (150, 150), (0, 0, 0, 0)) \n",
    "draw = ImageDraw.Draw(im)\n",
    "ts = [t/100.0 for t in range(101)]\n",
    "\n",
    "xys = [(50, 100), (80, 80), (100, 50)]\n",
    "bezier = make_bezier(xys)\n",
    "points = bezier(ts)\n",
    "\n",
    "xys = [(100, 50), (100, 0), (50, 0), (50, 35)]\n",
    "bezier = make_bezier(xys)\n",
    "points.extend(bezier(ts))\n",
    "\n",
    "xys = [(50, 35), (50, 0), (0, 0), (0, 50)]\n",
    "bezier = make_bezier(xys)\n",
    "points.extend(bezier(ts))\n",
    "\n",
    "xys = [(0, 50), (20, 80), (50, 100)]\n",
    "bezier = make_bezier(xys)\n",
    "points.extend(bezier(ts))\n",
    "\n",
    "draw.polygon(points, outline = 'red')\n",
    "display(im)\n",
    "#points"
   ]
  },
  {
   "cell_type": "markdown",
   "metadata": {},
   "source": [
    "However this generates only the points of a line (no width). But we need the polygon of a 15 mm wide line.\n",
    "So how do we extend the given line to a polygon with the given width ?\n",
    "\n",
    "Gladly shapely has the buffer operation exactly for that purpose: (see https://shapely.readthedocs.io/en/stable/manual.html#geometric-objects)\n",
    "\n"
   ]
  },
  {
   "cell_type": "code",
   "execution_count": 20,
   "metadata": {},
   "outputs": [
    {
     "data": {
      "image/png": "[encoded data removed]",
      "text/plain": [
       "<PIL.Image.Image image mode=RGBA size=150x150>"
      ]
     },
     "metadata": {},
     "output_type": "display_data"
    }
   ],
   "source": [
    "from shapely.geometry import Polygon\n",
    "from itertools import chain\n",
    "poly = Polygon([list(point) for point in points])\n",
    "newpoints = poly.buffer(15,cap_style=3, join_style=1) # the buffer() invocation is the essential one extending the line\n",
    "newtuple=list(newpoints.exterior.coords)\n",
    "\n",
    "draw.polygon(newtuple, outline = 'red')\n",
    "display(im)"
   ]
  },
  {
   "cell_type": "code",
   "execution_count": 8,
   "metadata": {},
   "outputs": [
    {
     "name": "stdout",
     "output_type": "stream",
     "text": [
      "first point: (100, 159)  second point: (623, 1053)\n",
      "delta_y: 1.7093690248565965\n",
      "angle: 59.67188839813127\n"
     ]
    },
    {
     "data": {
      "image/png": "[encoded data removed]",
      "text/plain": [
       "<PIL.Image.Image image mode=RGB size=1700x1400>"
      ]
     },
     "metadata": {},
     "output_type": "display_data"
    }
   ],
   "source": [
    "from PIL import Image\n",
    "from PIL import ImageDraw\n",
    "import random, math\n",
    "from shapely.geometry import Polygon, LineString\n",
    "from itertools import chain\n",
    "import Car\n",
    "\n",
    "CANVAS_SIZE=(1500,1200)\n",
    "CANVAS_BORDER=100\n",
    "CURVE_SEED=5\n",
    "#CURVE_SEED=9\n",
    "CURVE_WIDTH=15\n",
    "IMAGE_SIZE=(CANVAS_SIZE[0]+CANVAS_BORDER*2, CANVAS_SIZE[1]+CANVAS_BORDER*2)\n",
    "\n",
    "im = Image.new('RGB', (IMAGE_SIZE), (128, 128, 128))\n",
    "draw = ImageDraw.Draw(im)\n",
    "draw.rectangle((CANVAS_BORDER,CANVAS_BORDER,CANVAS_SIZE[0]+CANVAS_BORDER, CANVAS_SIZE[1]+CANVAS_BORDER),fill=(255,255,255),width=1, outline=(255,255,255) )\n",
    "\n",
    "random.seed(CURVE_SEED)\n",
    "i=random.randint(1,6) # number of points\n",
    "x=[100]\n",
    "x.extend(sorted(random.sample(range(CANVAS_BORDER, CANVAS_SIZE[0]+CANVAS_BORDER),i)))\n",
    "x.append(CANVAS_SIZE[0]+CANVAS_BORDER)\n",
    "y = random.sample(range(CANVAS_BORDER, CANVAS_SIZE[1]+CANVAS_BORDER),i+2)\n",
    "xys = list(zip(x,y))\n",
    "ts = [t/20.0 for t in range(21)]\n",
    "\n",
    "bezier = make_bezier(xys)\n",
    "points = bezier(ts)\n",
    "\n",
    "# now extend line into 15 width polygon with shapely\n",
    "line = LineString([list(point) for point in points])\n",
    "newpoints = line.buffer(7.5,cap_style=3, join_style=1) # the buffer() invocation is the essential one extending the line\n",
    "newtuple=list(newpoints.exterior.coords)\n",
    "\n",
    "draw.polygon(newtuple, outline = 'black', fill='black')\n",
    "#print(newtuple)\n",
    "\n",
    "# alternative to just draw line with width 15 - however this does not give us the\n",
    "# polygon to compute the intersection with the sensor position we need for the\n",
    "# simulator:\n",
    "#draw.line(points, fill='red', width=15)\n",
    "\n",
    "# Now compute the car start position.\n",
    "# a bezier curve is tangential to the first line given by the points, so we can compute \n",
    "# the angle from the line coordinates\n",
    "print(\"first point:\", xys[0], \" second point:\", xys[1])\n",
    "delta_y = (xys[1][1]-xys[0][1])/(xys[1][0]-xys[0][0])\n",
    "print(\"delta_y:\", delta_y)\n",
    "angle = math.degrees(math.atan(delta_y))\n",
    "print(\"angle:\", angle)\n",
    "\n",
    "## draw car in start position\n",
    "car = Car.CarModel()\n",
    "car._position=xys[0]\n",
    "car._rotation = angle\n",
    "car.draw(draw)\n",
    "\n",
    "display(im)\n"
   ]
  },
  {
   "cell_type": "code",
   "execution_count": 20,
   "metadata": {},
   "outputs": [],
   "source": [
    "from shapely.geometry import Polygon\n",
    "def computeSensorValues(curve, sensors):\n",
    "    \"\"\" compute the size of the intersection between the sensor polygons and the curve polygon \n",
    "    and compute the sensor values\n",
    "    \n",
    "    curve: be a list of points that form a polygon e.g. [(0,0),(5,5),(0,0)]\n",
    "    sensors: n-tuple of lists of points that form a polygon \n",
    "    e.g.\n",
    "    ( ((95,-15),(100,-15),(100,-10),(95,-10),(95,-15)),# S0\n",
    "            ((95,-2.5),(100,-2.5),(100,2.5),(95,2.5),(95,-2.5)), # S1\n",
    "         ((95,10),(100,10),(100,15),(95,15),(95,10)), # S2\n",
    "   \n",
    "    )\n",
    "    return sensor values between 30 (not on line) and 900 (fully on line)\n",
    "    (in real life the sensor value depends on lighting conditions and varies between 0 and 1024)\n",
    "    \"\"\"\n",
    "    result = []\n",
    "    curve = Polygon([list(point) for point in curve])\n",
    "    for i in range(3):\n",
    "        currentsensorbounds = car.rotateAndTranslateAndScalePoints(sensors[i])\n",
    "        sensorpoly = Polygon([list(point) for point in currentsensorbounds])\n",
    "        x = curve.intersection(sensorpoly)\n",
    "        areasize = x.area\n",
    "        sensorvalue = 30 + 870 * areasize / 25.0\n",
    "        result.append(sensorvalue)\n",
    "    return result\n",
    "    "
   ]
  },
  {
   "cell_type": "code",
   "execution_count": 19,
   "metadata": {},
   "outputs": [
    {
     "data": {
      "text/plain": [
       "[521.4408705685603, 847.4316956593154, 30.0]"
      ]
     },
     "execution_count": 19,
     "metadata": {},
     "output_type": "execute_result"
    }
   ],
   "source": [
    "result = computeSensorValues(newtuple, car.sensors)\n",
    "result"
   ]
  },
  {
   "cell_type": "code",
   "execution_count": 1,
   "metadata": {},
   "outputs": [
    {
     "name": "stdout",
     "output_type": "stream",
     "text": [
      "Sensor values in start position: [521.4408705685603, 847.4316956593154, 30.0]\n",
      "Sensor values after rotation position: [30.0, 899.9999999999993, 30.0]\n",
      "Canvas bounds ((100, 100), (1600, 100), (1600, 1300), (100, 1300), (100, 100))\n"
     ]
    },
    {
     "data": {
      "image/png": "[encoded data removed]",
      "text/plain": [
       "<PIL.Image.Image image mode=RGB size=1700x1400>"
      ]
     },
     "metadata": {},
     "output_type": "display_data"
    }
   ],
   "source": [
    "import Car\n",
    "import Canvas\n",
    "\n",
    "car = Car.CarModel()\n",
    "canvas = Canvas.CanvasModel(seed=5)\n",
    "car.setPosition(canvas.getCurveStartingPoint())\n",
    "car.setOrientation(canvas.getCurveStartingOrientation())\n",
    "\n",
    "(img, draw) = canvas.createImageAndDraw()\n",
    "car.draw(draw)\n",
    "\n",
    "print(\"Sensor values in start position:\", car.computeSensorValues(canvas.getCurveBoundingPoints()))\n",
    "car.rotate(-4)\n",
    "car.draw(draw)\n",
    "print(\"Sensor values after rotation position:\", car.computeSensorValues(canvas.getCurveBoundingPoints()))\n",
    "print(\"Canvas bounds\", canvas.getCanvasBoundingPoints())\n",
    "\n",
    "display(img)\n",
    "\n"
   ]
  },
  {
   "cell_type": "code",
   "execution_count": null,
   "metadata": {},
   "outputs": [],
   "source": []
  },
  {
   "cell_type": "code",
   "execution_count": null,
   "metadata": {},
   "outputs": [],
   "source": []
  }
 ],
 "metadata": {
  "kernelspec": {
   "display_name": "Python 3 (ipykernel)",
   "language": "python",
   "name": "python3"
  },
  "language_info": {
   "codemirror_mode": {
    "name": "ipython",
    "version": 3
   },
   "file_extension": ".py",
   "mimetype": "text/x-python",
   "name": "python",
   "nbconvert_exporter": "python",
   "pygments_lexer": "ipython3",
   "version": "3.7.13"
  },
  "vscode": {
   "interpreter": {
    "hash": "3bd4c4b21ac5a82fa74ccd039c4cbd1c9070533f0d02e4782882802bc548d8b6"
   }
  }
 },
 "nbformat": 4,
 "nbformat_minor": 2
}
