{
 "cells": [
  {
   "cell_type": "code",
   "execution_count": null,
   "metadata": {},
   "outputs": [],
   "source": [
    "import matplotlib.pyplot as plot\n",
    "import seaborn as sb\n",
    "import pandas as pd\n",
    "import numpy as np"
   ]
  },
  {
   "cell_type": "markdown",
   "metadata": {},
   "source": [
    "For our robo car simulation code we did some experimental measurements of the real car:\n",
    "\n",
    "We measured the following values when invoking the \n",
    "RoboCar API function\n",
    "```\n",
    "turnLeft(100, timems)\n",
    "```\n",
    "angle in degree:"
   ]
  },
  {
   "cell_type": "code",
   "execution_count": null,
   "metadata": {},
   "outputs": [],
   "source": [
    "data = {'timems':  [50,100,150,200,250,300,350,400,500],\n",
    "        'angle': [5,10,16,26,34,38,44,48,68]\n",
    "        }\n",
    "turnLeftData =  pd.DataFrame(data)\n",
    "\n",
    "turnLeftData.head()"
   ]
  },
  {
   "cell_type": "code",
   "execution_count": null,
   "metadata": {},
   "outputs": [],
   "source": [
    "p=sb.regplot(turnLeftData.timems,turnLeftData.angle)\n",
    "plot.show()\n",
    "x = p.get_lines()[0].get_xdata()\n",
    "y = p.get_lines()[0].get_ydata()\n",
    "a, b = np.polyfit(x, y, 1)\n",
    "print (\"z = {} * x + {}\".format(a, b))"
   ]
  },
  {
   "cell_type": "markdown",
   "metadata": {},
   "source": [
    "and for \n",
    "```\n",
    "driveForward(100, timems)\n",
    "```\n",
    "we measured the following distances in mm"
   ]
  },
  {
   "cell_type": "code",
   "execution_count": null,
   "metadata": {},
   "outputs": [],
   "source": [
    "data = {'timems':  [50,100,150,200,250,300,350,400,500],\n",
    "        'distmm': [8,13,37,42,65,80,95,107,135]\n",
    "        }\n",
    "driveForwardData =  pd.DataFrame(data)\n",
    "\n",
    "driveForwardData.head()"
   ]
  },
  {
   "cell_type": "code",
   "execution_count": null,
   "metadata": {},
   "outputs": [],
   "source": [
    "p=sb.regplot(driveForwardData.timems,driveForwardData.distmm)\n",
    "plot.show()\n",
    "x = p.get_lines()[0].get_xdata()\n",
    "y = p.get_lines()[0].get_ydata()\n",
    "a, b = np.polyfit(x, y, 1)\n",
    "print (\"z = {} * x + {}\".format(a, b))"
   ]
  },
  {
   "cell_type": "markdown",
   "metadata": {},
   "source": [
    "Now we can conclude that we have the following approximate formulas for a speed of 100 for the robo car\n",
    "```\n",
    "rotation_angle = 0.14 * timems - 2.75\n",
    "\n",
    "distance_in_mm = 0.29 * timems - 10.59\n",
    "````\n",
    "\n"
   ]
  },
  {
   "cell_type": "markdown",
   "metadata": {},
   "source": [
    "Rotation matrix:\n",
    "https://www.101computing.net/2d-rotation-matrix/\n",
    "\n",
    "Scaling, moving and rotating\n",
    "\n",
    "https://stackoverflow.com/questions/23530449/rotate-scale-and-translate-2d-coordinates\n",
    "\n",
    "Python libraries\n",
    "\n",
    "- shapely https://shapely.readthedocs.io/en/maint-1.8/manual.html\n",
    "- https://pythontic.com/image-processing/pillow/rotate\n",
    "\n",
    "Drawing shapes and manipulate them\n",
    "- https://note.nkmk.me/en/python-pillow-imagedraw/\n",
    "using a coordinate system with 0,0 in upper left corner\n",
    "- https://pillow.readthedocs.io/en/stable/reference/ImagePath.html\n",
    "- https://pillow.readthedocs.io/en/stable/handbook/tutorial.html\n",
    "- https://stackoverflow.com/questions/17056209/python-pil-affine-transformation\n",
    "- Gifs:\n",
    "- https://blog.zhaytam.com/2018/08/21/creating-gifs-using-python-pillow/\n",
    "- https://stackoverflow.com/questions/2275446/python-animation-with-pil\n",
    "\n",
    "\n"
   ]
  },
  {
   "cell_type": "code",
   "execution_count": null,
   "metadata": {},
   "outputs": [],
   "source": [
    "from Car import CarModel\n",
    "\n",
    "car = CarModel()\n",
    "car.setScale(1.0)\n",
    "car.rotate(-45)\n",
    "\n",
    "car.moveForward(200)\n"
   ]
  },
  {
   "cell_type": "markdown",
   "metadata": {},
   "source": [
    "Draw a single frame with different positions of the car"
   ]
  },
  {
   "cell_type": "code",
   "execution_count": null,
   "metadata": {},
   "outputs": [],
   "source": [
    "from PIL import Image, ImageDraw\n",
    "import Car, time\n",
    "car = Car.CarModel()\n",
    "#car.setScale(0.5)\n",
    "\n",
    "im = Image.new('RGBA', (1500, 1200), (128, 128, 128))\n",
    "draw = ImageDraw.Draw(im)\n",
    "draw.line((0,0,1500,1200),fill=(0,0,0), width=15 )\n",
    "\n",
    "# move to start position\n",
    "car.rotate(90.0)\n",
    "car.moveForward(120.0)\n",
    "car.rotate(-90.0)\n",
    "car.moveForward(150.0)\n",
    "car.rotate(38.0)\n",
    "# draw start position\n",
    "car.draw(draw)\n",
    "\n",
    "# move and draw car\n",
    "\n",
    "for i in range(0,10): \n",
    "    car.moveForward(200)\n",
    "    car.rotate(-10)\n",
    "    car.draw(draw)\n",
    "   \n",
    "   \n",
    "display(im)\n",
    "\n",
    "\n",
    "    "
   ]
  },
  {
   "cell_type": "markdown",
   "metadata": {},
   "source": [
    "Generate a GIF \"video\" from the frames of the simulation, timed with the individual duration of each driving step"
   ]
  },
  {
   "cell_type": "code",
   "execution_count": null,
   "metadata": {},
   "outputs": [],
   "source": [
    "from PIL import Image, ImageDraw, ImageFont\n",
    "import Car\n",
    "car = Car.CarModel()\n",
    "# move to start position\n",
    "car.rotate(90.0)\n",
    "car.moveForward(120.0)\n",
    "car.rotate(-90.0)\n",
    "car.moveForward(150.0)\n",
    "car.rotate(38.0)\n",
    "\n",
    "# draw frames\n",
    "frames = []\n",
    "durations = []\n",
    "time = 0.0\n",
    "\n",
    "genevafont = ImageFont.truetype(\"Geneva.ttf\", 30)\n",
    "\n",
    "\n",
    "for i in range (0,17):\n",
    "    im = Image.new('RGB', (1700, 1400), (128, 128, 128))\n",
    "    draw = ImageDraw.Draw(im)\n",
    "    draw.rectangle((100,100,1600,1300),fill=(255,255,255),width=1, outline=(255,255,255) )\n",
    "    draw.line((100,100,1600,1300),fill=(0,0,0), width=15 )\n",
    "    text = 'Step: {:3d} Time: {:.2f} s - Sensors: L {:3d} M {:3d} R {:3d}'.format(i*2,time,455,828,444)\n",
    "    draw.text((400,50), text, font=genevafont)\n",
    "\n",
    "    # draw after moving forward and save image\n",
    "    car.moveForward(100)\n",
    "    time+= 0.2\n",
    "    car.draw(draw)\n",
    "    frames.append(im)\n",
    "    durations.append(200)\n",
    "    \n",
    "    \n",
    "   \n",
    "    car.rotate(-5)\n",
    "    time+=0.05\n",
    "    durations.append(50)\n",
    "    # draw after rotating\n",
    "    im = Image.new('RGB', (1700, 1400), (128, 128, 128))\n",
    "    draw = ImageDraw.Draw(im)\n",
    "    draw.rectangle((100,100,1600,1300),fill=(255,255,255),width=1, outline=(255,255,255)) \n",
    "    draw.line((100,100,1600,1300),fill=(0,0,0), width=15 )\n",
    "    text = 'Step: {:3d} Time: {:.2f} s - Sensors: L {:3d} M {:3d} R {:3d}'.format(i*2+1,time,455,828,444)\n",
    "    draw.text((400,50), text, font=genevafont)\n",
    "    car.draw(draw)\n",
    "    frames.append(im)\n",
    "    \n",
    "    \n",
    "\n",
    "frames[0].save('carsimulation.gif', format='GIF', append_images=frames[1:], save_all=True, duration=durations, loop=0, optimize=True)\n"
   ]
  },
  {
   "cell_type": "markdown",
   "metadata": {},
   "source": [
    "![SegmentLocal](carsimulation.gif \"segment\")"
   ]
  },
  {
   "cell_type": "markdown",
   "metadata": {},
   "source": []
  },
  {
   "cell_type": "markdown",
   "metadata": {},
   "source": []
  },
  {
   "cell_type": "markdown",
   "metadata": {},
   "source": []
  }
 ],
 "metadata": {
  "kernelspec": {
   "display_name": "Python 3",
   "language": "python",
   "name": "python3"
  },
  "language_info": {
   "codemirror_mode": {
    "name": "ipython",
    "version": 3
   },
   "file_extension": ".py",
   "mimetype": "text/x-python",
   "name": "python",
   "nbconvert_exporter": "python",
   "pygments_lexer": "ipython3",
   "version": "3.7.13"
  },
  "vscode": {
   "interpreter": {
    "hash": "3bd4c4b21ac5a82fa74ccd039c4cbd1c9070533f0d02e4782882802bc548d8b6"
   }
  }
 },
 "nbformat": 4,
 "nbformat_minor": 2
}
